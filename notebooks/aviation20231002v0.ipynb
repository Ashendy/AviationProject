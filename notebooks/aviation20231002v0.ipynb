{
 "cells": [
  {
   "cell_type": "markdown",
   "metadata": {},
   "source": [
    "<a id='About'></a>\n",
    "## About ##\n",
    "​The National Transport Safety Board (NTSB) aviation accident database contains civil aviation accidents and selected incidents that occurred from 1962 to present within the United States, its territories and possessions, and in international waters. Foreign investigations in which the NTSB participated as an accredited representative will also be listed.  \n",
    "Data description:\n",
    "- _Event.Id:_ ID of the aviation event\n",
    "- _Investigation.Type:_ Determination of avaiation accident. Types are: Accident, Incident, and Occurrence\n",
    "- _Accident.Number:_ Number of the aviation accident\n",
    "- _Event.Date:_ The date of the event\n",
    "- _Location:_ The location in which the event took place\n",
    "- _Country:_ The country in which the event took place\n",
    "- _Latitude:_ Latitude where the event took place\n",
    "- _Longitude:_ Longitude where the event took place\n",
    "- _Airport.Code:_ Airport code if the event took place within 3 miles of an airport, or the involved aircraft was\n",
    "taking off from, or on approach to, an airport\n",
    "- _Airport.Name:_ Airport name if the event took place within 3 miles of an airport, or the involved aircraft was\n",
    "taking off from, or on approach to, an airport\n",
    "- _Injury.Severity:_ Type of injury\n",
    "- _Aircraft.damage:_ Damage level of the involved aircraft\n",
    "- _Aircraft.Category:_ The category of the involved aircraft\n",
    "- _Registration.Number:_ The full registration (tail) number of the involved aircraft, including the International Civil Aviation Organization (ICAO) country prefix\n",
    "- _Make:_ Name of the manufacturer of the involved aircraft\n",
    "- _Model:_ The full alphanumeric aircraft model code, including any applicable series or derivative\n",
    "identifiers\n",
    "- _Amateur.Built:_ Aircraft is a homebuilt (true/false)\n",
    "- _Number.of.Engines:_ The total number of engines on the accident aircraft\n",
    "- _Engine.Type:_ A variety of engine types\n",
    "- _FAR.Description:_ Federal Aviation Regulations description. The applicable regulation part (14 CFR) or authority the aircraft was operating under at the time of the accident\n",
    "- _Schedule:_ If the accident aircraft was conducting air carrier operations under 14 CFR 121, 125, 129, or\n",
    "135, indicate whether it was operating as a \"scheduled or commuter\" air carrier or as a \"nonscheduled or air taxi\" carrier\n",
    "- _Purpose.of.flight:_ The purpose of the flight such as Personal, Business, Aerial application and Firefighting flights\n",
    "- _Air.carrier:_ The organization that operates the involved aircraft\n",
    "- _Total.Fatal.Injuries:_ Total number of fatal injuries. Fatal injury means any injury which results in death within 30 days of the accident\n",
    "- _Total.Serious.Injuries:_ Total number of serious injuries\n",
    "- _Total.Minor.Injuries:_ Total number of minor injuries\n",
    "- _Total.Uninjured:_ Total number of uninjured\n",
    "- _Weather.Condition:_ Meteorological Conditions. IMC (Instrument meteorological conditions) and VMC (Visual meteorological conditions)\n",
    "- _Broad.phase.of.flight:_ Stage of the flight when the event took place\n",
    "- _Report.Status:_ General status of the investigation\n",
    "- _Publication.Date:_ The date the investigation report was originally published\n"
   ]
  },
  {
   "cell_type": "markdown",
   "metadata": {},
   "source": [
    "<a id='Business Problem'></a>\n",
    "## Business Problem\n",
    "The client is expanding in to new industries to diversify its portfolio. Specifically, they are interested in purchasing and operating airplanes for commercial and private enterprises, but do not know anything about the potential risks of aircraft.  \n",
    "Our  task is to determine which aircraft are the lowest risk for the company to start this new business endeavor.  \n",
    "Client needs three concrete recommendations with findings into actionable insights that the head of the new aviation division can use to help decide which aircraft to purchase. "
   ]
  },
  {
   "cell_type": "markdown",
   "metadata": {},
   "source": [
    "## Data Understanding\n",
    "TBD"
   ]
  },
  {
   "cell_type": "markdown",
   "metadata": {},
   "source": [
    "**Table of contents**  \n",
    "1. [About](#about)\n",
    "2. [Business problem & Data understanding](#business-problem)\n",
    "3. [Data preprocessing](#data-preprocessing)\n",
    "- 3.1. [Exploring data](#exploring-data)\n",
    "- 3.2. [Data preparation](#data-preparation)\n",
    "4. [Exploratory data analysis](#exploratory-data-analysis)\n",
    "- 4.1. [General data analysis](#general-data-analysis)\n",
    "- 4.2. [Data analysis for reccommendations](#data-analysis-for-recommendations)\n",
    "5. [Summary](#summary)"
   ]
  },
  {
   "cell_type": "markdown",
   "metadata": {},
   "source": [
    "## Data Preprocessing"
   ]
  },
  {
   "cell_type": "markdown",
   "metadata": {},
   "source": [
    "### Exploring Data"
   ]
  },
  {
   "cell_type": "code",
   "execution_count": 108,
   "metadata": {},
   "outputs": [],
   "source": [
    "import numpy as np\n",
    "import pandas as pd\n",
    "import seaborn as sns\n",
    "import matplotlib.pyplot as plt\n",
    "import warnings\n",
    "warnings.simplefilter(\"ignore\")\n"
   ]
  },
  {
   "cell_type": "code",
   "execution_count": 109,
   "metadata": {},
   "outputs": [
    {
     "data": {
      "text/html": [
       "<div>\n",
       "<style scoped>\n",
       "    .dataframe tbody tr th:only-of-type {\n",
       "        vertical-align: middle;\n",
       "    }\n",
       "\n",
       "    .dataframe tbody tr th {\n",
       "        vertical-align: top;\n",
       "    }\n",
       "\n",
       "    .dataframe thead th {\n",
       "        text-align: right;\n",
       "    }\n",
       "</style>\n",
       "<table border=\"1\" class=\"dataframe\">\n",
       "  <thead>\n",
       "    <tr style=\"text-align: right;\">\n",
       "      <th></th>\n",
       "      <th>Event.Id</th>\n",
       "      <th>Investigation.Type</th>\n",
       "      <th>Accident.Number</th>\n",
       "      <th>Event.Date</th>\n",
       "      <th>Location</th>\n",
       "      <th>Country</th>\n",
       "      <th>Latitude</th>\n",
       "      <th>Longitude</th>\n",
       "      <th>Airport.Code</th>\n",
       "      <th>Airport.Name</th>\n",
       "      <th>...</th>\n",
       "      <th>Purpose.of.flight</th>\n",
       "      <th>Air.carrier</th>\n",
       "      <th>Total.Fatal.Injuries</th>\n",
       "      <th>Total.Serious.Injuries</th>\n",
       "      <th>Total.Minor.Injuries</th>\n",
       "      <th>Total.Uninjured</th>\n",
       "      <th>Weather.Condition</th>\n",
       "      <th>Broad.phase.of.flight</th>\n",
       "      <th>Report.Status</th>\n",
       "      <th>Publication.Date</th>\n",
       "    </tr>\n",
       "  </thead>\n",
       "  <tbody>\n",
       "    <tr>\n",
       "      <th>0</th>\n",
       "      <td>20001218X45444</td>\n",
       "      <td>Accident</td>\n",
       "      <td>SEA87LA080</td>\n",
       "      <td>1948-10-24</td>\n",
       "      <td>MOOSE CREEK, ID</td>\n",
       "      <td>United States</td>\n",
       "      <td>NaN</td>\n",
       "      <td>NaN</td>\n",
       "      <td>NaN</td>\n",
       "      <td>NaN</td>\n",
       "      <td>...</td>\n",
       "      <td>Personal</td>\n",
       "      <td>NaN</td>\n",
       "      <td>2.0</td>\n",
       "      <td>0.0</td>\n",
       "      <td>0.0</td>\n",
       "      <td>0.0</td>\n",
       "      <td>UNK</td>\n",
       "      <td>Cruise</td>\n",
       "      <td>Probable Cause</td>\n",
       "      <td>NaN</td>\n",
       "    </tr>\n",
       "    <tr>\n",
       "      <th>1</th>\n",
       "      <td>20001218X45447</td>\n",
       "      <td>Accident</td>\n",
       "      <td>LAX94LA336</td>\n",
       "      <td>1962-07-19</td>\n",
       "      <td>BRIDGEPORT, CA</td>\n",
       "      <td>United States</td>\n",
       "      <td>NaN</td>\n",
       "      <td>NaN</td>\n",
       "      <td>NaN</td>\n",
       "      <td>NaN</td>\n",
       "      <td>...</td>\n",
       "      <td>Personal</td>\n",
       "      <td>NaN</td>\n",
       "      <td>4.0</td>\n",
       "      <td>0.0</td>\n",
       "      <td>0.0</td>\n",
       "      <td>0.0</td>\n",
       "      <td>UNK</td>\n",
       "      <td>Unknown</td>\n",
       "      <td>Probable Cause</td>\n",
       "      <td>19-09-1996</td>\n",
       "    </tr>\n",
       "    <tr>\n",
       "      <th>2</th>\n",
       "      <td>20061025X01555</td>\n",
       "      <td>Accident</td>\n",
       "      <td>NYC07LA005</td>\n",
       "      <td>1974-08-30</td>\n",
       "      <td>Saltville, VA</td>\n",
       "      <td>United States</td>\n",
       "      <td>36.9222</td>\n",
       "      <td>-81.8781</td>\n",
       "      <td>NaN</td>\n",
       "      <td>NaN</td>\n",
       "      <td>...</td>\n",
       "      <td>Personal</td>\n",
       "      <td>NaN</td>\n",
       "      <td>3.0</td>\n",
       "      <td>NaN</td>\n",
       "      <td>NaN</td>\n",
       "      <td>NaN</td>\n",
       "      <td>IMC</td>\n",
       "      <td>Cruise</td>\n",
       "      <td>Probable Cause</td>\n",
       "      <td>26-02-2007</td>\n",
       "    </tr>\n",
       "    <tr>\n",
       "      <th>3</th>\n",
       "      <td>20001218X45448</td>\n",
       "      <td>Accident</td>\n",
       "      <td>LAX96LA321</td>\n",
       "      <td>1977-06-19</td>\n",
       "      <td>EUREKA, CA</td>\n",
       "      <td>United States</td>\n",
       "      <td>NaN</td>\n",
       "      <td>NaN</td>\n",
       "      <td>NaN</td>\n",
       "      <td>NaN</td>\n",
       "      <td>...</td>\n",
       "      <td>Personal</td>\n",
       "      <td>NaN</td>\n",
       "      <td>2.0</td>\n",
       "      <td>0.0</td>\n",
       "      <td>0.0</td>\n",
       "      <td>0.0</td>\n",
       "      <td>IMC</td>\n",
       "      <td>Cruise</td>\n",
       "      <td>Probable Cause</td>\n",
       "      <td>12-09-2000</td>\n",
       "    </tr>\n",
       "    <tr>\n",
       "      <th>4</th>\n",
       "      <td>20041105X01764</td>\n",
       "      <td>Accident</td>\n",
       "      <td>CHI79FA064</td>\n",
       "      <td>1979-08-02</td>\n",
       "      <td>Canton, OH</td>\n",
       "      <td>United States</td>\n",
       "      <td>NaN</td>\n",
       "      <td>NaN</td>\n",
       "      <td>NaN</td>\n",
       "      <td>NaN</td>\n",
       "      <td>...</td>\n",
       "      <td>Personal</td>\n",
       "      <td>NaN</td>\n",
       "      <td>1.0</td>\n",
       "      <td>2.0</td>\n",
       "      <td>NaN</td>\n",
       "      <td>0.0</td>\n",
       "      <td>VMC</td>\n",
       "      <td>Approach</td>\n",
       "      <td>Probable Cause</td>\n",
       "      <td>16-04-1980</td>\n",
       "    </tr>\n",
       "  </tbody>\n",
       "</table>\n",
       "<p>5 rows × 31 columns</p>\n",
       "</div>"
      ],
      "text/plain": [
       "         Event.Id Investigation.Type Accident.Number  Event.Date  \\\n",
       "0  20001218X45444           Accident      SEA87LA080  1948-10-24   \n",
       "1  20001218X45447           Accident      LAX94LA336  1962-07-19   \n",
       "2  20061025X01555           Accident      NYC07LA005  1974-08-30   \n",
       "3  20001218X45448           Accident      LAX96LA321  1977-06-19   \n",
       "4  20041105X01764           Accident      CHI79FA064  1979-08-02   \n",
       "\n",
       "          Location        Country Latitude Longitude Airport.Code  \\\n",
       "0  MOOSE CREEK, ID  United States      NaN       NaN          NaN   \n",
       "1   BRIDGEPORT, CA  United States      NaN       NaN          NaN   \n",
       "2    Saltville, VA  United States  36.9222  -81.8781          NaN   \n",
       "3       EUREKA, CA  United States      NaN       NaN          NaN   \n",
       "4       Canton, OH  United States      NaN       NaN          NaN   \n",
       "\n",
       "  Airport.Name  ... Purpose.of.flight Air.carrier Total.Fatal.Injuries  \\\n",
       "0          NaN  ...          Personal         NaN                  2.0   \n",
       "1          NaN  ...          Personal         NaN                  4.0   \n",
       "2          NaN  ...          Personal         NaN                  3.0   \n",
       "3          NaN  ...          Personal         NaN                  2.0   \n",
       "4          NaN  ...          Personal         NaN                  1.0   \n",
       "\n",
       "  Total.Serious.Injuries Total.Minor.Injuries Total.Uninjured  \\\n",
       "0                    0.0                  0.0             0.0   \n",
       "1                    0.0                  0.0             0.0   \n",
       "2                    NaN                  NaN             NaN   \n",
       "3                    0.0                  0.0             0.0   \n",
       "4                    2.0                  NaN             0.0   \n",
       "\n",
       "  Weather.Condition  Broad.phase.of.flight   Report.Status Publication.Date  \n",
       "0               UNK                 Cruise  Probable Cause              NaN  \n",
       "1               UNK                Unknown  Probable Cause       19-09-1996  \n",
       "2               IMC                 Cruise  Probable Cause       26-02-2007  \n",
       "3               IMC                 Cruise  Probable Cause       12-09-2000  \n",
       "4               VMC               Approach  Probable Cause       16-04-1980  \n",
       "\n",
       "[5 rows x 31 columns]"
      ]
     },
     "execution_count": 109,
     "metadata": {},
     "output_type": "execute_result"
    }
   ],
   "source": [
    "df = pd.read_csv('data/AviationData.csv', encoding='latin-1')\n",
    "df.head()"
   ]
  },
  {
   "cell_type": "code",
   "execution_count": 56,
   "metadata": {},
   "outputs": [
    {
     "name": "stdout",
     "output_type": "stream",
     "text": [
      "<class 'pandas.core.frame.DataFrame'>\n",
      "RangeIndex: 88889 entries, 0 to 88888\n",
      "Data columns (total 31 columns):\n",
      " #   Column                  Non-Null Count  Dtype  \n",
      "---  ------                  --------------  -----  \n",
      " 0   Event.Id                88889 non-null  object \n",
      " 1   Investigation.Type      88889 non-null  object \n",
      " 2   Accident.Number         88889 non-null  object \n",
      " 3   Event.Date              88889 non-null  object \n",
      " 4   Location                88837 non-null  object \n",
      " 5   Country                 88663 non-null  object \n",
      " 6   Latitude                34382 non-null  object \n",
      " 7   Longitude               34373 non-null  object \n",
      " 8   Airport.Code            50248 non-null  object \n",
      " 9   Airport.Name            52790 non-null  object \n",
      " 10  Injury.Severity         87889 non-null  object \n",
      " 11  Aircraft.damage         85695 non-null  object \n",
      " 12  Aircraft.Category       32287 non-null  object \n",
      " 13  Registration.Number     87572 non-null  object \n",
      " 14  Make                    88826 non-null  object \n",
      " 15  Model                   88797 non-null  object \n",
      " 16  Amateur.Built           88787 non-null  object \n",
      " 17  Number.of.Engines       82805 non-null  float64\n",
      " 18  Engine.Type             81812 non-null  object \n",
      " 19  FAR.Description         32023 non-null  object \n",
      " 20  Schedule                12582 non-null  object \n",
      " 21  Purpose.of.flight       82697 non-null  object \n",
      " 22  Air.carrier             16648 non-null  object \n",
      " 23  Total.Fatal.Injuries    77488 non-null  float64\n",
      " 24  Total.Serious.Injuries  76379 non-null  float64\n",
      " 25  Total.Minor.Injuries    76956 non-null  float64\n",
      " 26  Total.Uninjured         82977 non-null  float64\n",
      " 27  Weather.Condition       84397 non-null  object \n",
      " 28  Broad.phase.of.flight   61724 non-null  object \n",
      " 29  Report.Status           82508 non-null  object \n",
      " 30  Publication.Date        75118 non-null  object \n",
      "dtypes: float64(5), object(26)\n",
      "memory usage: 21.0+ MB\n"
     ]
    }
   ],
   "source": [
    "df.info()"
   ]
  },
  {
   "cell_type": "code",
   "execution_count": 110,
   "metadata": {},
   "outputs": [
    {
     "data": {
      "text/plain": [
       "Schedule                  76307\n",
       "Air.carrier               72241\n",
       "FAR.Description           56866\n",
       "Aircraft.Category         56602\n",
       "Longitude                 54516\n",
       "Latitude                  54507\n",
       "Airport.Code              38641\n",
       "Airport.Name              36099\n",
       "Broad.phase.of.flight     27165\n",
       "Publication.Date          13771\n",
       "Total.Serious.Injuries    12510\n",
       "Total.Minor.Injuries      11933\n",
       "Total.Fatal.Injuries      11401\n",
       "Engine.Type                7077\n",
       "Report.Status              6381\n",
       "Purpose.of.flight          6192\n",
       "Number.of.Engines          6084\n",
       "Total.Uninjured            5912\n",
       "Weather.Condition          4492\n",
       "Aircraft.damage            3194\n",
       "Registration.Number        1317\n",
       "Injury.Severity            1000\n",
       "Country                     226\n",
       "Amateur.Built               102\n",
       "Model                        92\n",
       "Make                         63\n",
       "Location                     52\n",
       "Event.Date                    0\n",
       "Accident.Number               0\n",
       "Investigation.Type            0\n",
       "Event.Id                      0\n",
       "dtype: int64"
      ]
     },
     "execution_count": 110,
     "metadata": {},
     "output_type": "execute_result"
    }
   ],
   "source": [
    "df.isna().sum().sort_values(ascending=False)"
   ]
  },
  {
   "cell_type": "code",
   "execution_count": 111,
   "metadata": {},
   "outputs": [
    {
     "data": {
      "text/html": [
       "<div>\n",
       "<style scoped>\n",
       "    .dataframe tbody tr th:only-of-type {\n",
       "        vertical-align: middle;\n",
       "    }\n",
       "\n",
       "    .dataframe tbody tr th {\n",
       "        vertical-align: top;\n",
       "    }\n",
       "\n",
       "    .dataframe thead th {\n",
       "        text-align: right;\n",
       "    }\n",
       "</style>\n",
       "<table border=\"1\" class=\"dataframe\">\n",
       "  <thead>\n",
       "    <tr style=\"text-align: right;\">\n",
       "      <th></th>\n",
       "      <th>%</th>\n",
       "    </tr>\n",
       "  </thead>\n",
       "  <tbody>\n",
       "    <tr>\n",
       "      <th>Schedule</th>\n",
       "      <td>85.85</td>\n",
       "    </tr>\n",
       "    <tr>\n",
       "      <th>Air.carrier</th>\n",
       "      <td>81.27</td>\n",
       "    </tr>\n",
       "    <tr>\n",
       "      <th>FAR.Description</th>\n",
       "      <td>63.97</td>\n",
       "    </tr>\n",
       "    <tr>\n",
       "      <th>Aircraft.Category</th>\n",
       "      <td>63.68</td>\n",
       "    </tr>\n",
       "    <tr>\n",
       "      <th>Longitude</th>\n",
       "      <td>61.33</td>\n",
       "    </tr>\n",
       "    <tr>\n",
       "      <th>Latitude</th>\n",
       "      <td>61.32</td>\n",
       "    </tr>\n",
       "    <tr>\n",
       "      <th>Airport.Code</th>\n",
       "      <td>43.47</td>\n",
       "    </tr>\n",
       "    <tr>\n",
       "      <th>Airport.Name</th>\n",
       "      <td>40.61</td>\n",
       "    </tr>\n",
       "    <tr>\n",
       "      <th>Broad.phase.of.flight</th>\n",
       "      <td>30.56</td>\n",
       "    </tr>\n",
       "    <tr>\n",
       "      <th>Publication.Date</th>\n",
       "      <td>15.49</td>\n",
       "    </tr>\n",
       "    <tr>\n",
       "      <th>Total.Serious.Injuries</th>\n",
       "      <td>14.07</td>\n",
       "    </tr>\n",
       "    <tr>\n",
       "      <th>Total.Minor.Injuries</th>\n",
       "      <td>13.42</td>\n",
       "    </tr>\n",
       "    <tr>\n",
       "      <th>Total.Fatal.Injuries</th>\n",
       "      <td>12.83</td>\n",
       "    </tr>\n",
       "    <tr>\n",
       "      <th>Engine.Type</th>\n",
       "      <td>7.96</td>\n",
       "    </tr>\n",
       "    <tr>\n",
       "      <th>Report.Status</th>\n",
       "      <td>7.18</td>\n",
       "    </tr>\n",
       "    <tr>\n",
       "      <th>Purpose.of.flight</th>\n",
       "      <td>6.97</td>\n",
       "    </tr>\n",
       "    <tr>\n",
       "      <th>Number.of.Engines</th>\n",
       "      <td>6.84</td>\n",
       "    </tr>\n",
       "    <tr>\n",
       "      <th>Total.Uninjured</th>\n",
       "      <td>6.65</td>\n",
       "    </tr>\n",
       "    <tr>\n",
       "      <th>Weather.Condition</th>\n",
       "      <td>5.05</td>\n",
       "    </tr>\n",
       "    <tr>\n",
       "      <th>Aircraft.damage</th>\n",
       "      <td>3.59</td>\n",
       "    </tr>\n",
       "    <tr>\n",
       "      <th>Registration.Number</th>\n",
       "      <td>1.48</td>\n",
       "    </tr>\n",
       "    <tr>\n",
       "      <th>Injury.Severity</th>\n",
       "      <td>1.12</td>\n",
       "    </tr>\n",
       "    <tr>\n",
       "      <th>Country</th>\n",
       "      <td>0.25</td>\n",
       "    </tr>\n",
       "    <tr>\n",
       "      <th>Amateur.Built</th>\n",
       "      <td>0.11</td>\n",
       "    </tr>\n",
       "    <tr>\n",
       "      <th>Model</th>\n",
       "      <td>0.10</td>\n",
       "    </tr>\n",
       "    <tr>\n",
       "      <th>Make</th>\n",
       "      <td>0.07</td>\n",
       "    </tr>\n",
       "    <tr>\n",
       "      <th>Location</th>\n",
       "      <td>0.06</td>\n",
       "    </tr>\n",
       "    <tr>\n",
       "      <th>Event.Date</th>\n",
       "      <td>0.00</td>\n",
       "    </tr>\n",
       "    <tr>\n",
       "      <th>Accident.Number</th>\n",
       "      <td>0.00</td>\n",
       "    </tr>\n",
       "    <tr>\n",
       "      <th>Investigation.Type</th>\n",
       "      <td>0.00</td>\n",
       "    </tr>\n",
       "    <tr>\n",
       "      <th>Event.Id</th>\n",
       "      <td>0.00</td>\n",
       "    </tr>\n",
       "  </tbody>\n",
       "</table>\n",
       "</div>"
      ],
      "text/plain": [
       "                            %\n",
       "Schedule                85.85\n",
       "Air.carrier             81.27\n",
       "FAR.Description         63.97\n",
       "Aircraft.Category       63.68\n",
       "Longitude               61.33\n",
       "Latitude                61.32\n",
       "Airport.Code            43.47\n",
       "Airport.Name            40.61\n",
       "Broad.phase.of.flight   30.56\n",
       "Publication.Date        15.49\n",
       "Total.Serious.Injuries  14.07\n",
       "Total.Minor.Injuries    13.42\n",
       "Total.Fatal.Injuries    12.83\n",
       "Engine.Type              7.96\n",
       "Report.Status            7.18\n",
       "Purpose.of.flight        6.97\n",
       "Number.of.Engines        6.84\n",
       "Total.Uninjured          6.65\n",
       "Weather.Condition        5.05\n",
       "Aircraft.damage          3.59\n",
       "Registration.Number      1.48\n",
       "Injury.Severity          1.12\n",
       "Country                  0.25\n",
       "Amateur.Built            0.11\n",
       "Model                    0.10\n",
       "Make                     0.07\n",
       "Location                 0.06\n",
       "Event.Date               0.00\n",
       "Accident.Number          0.00\n",
       "Investigation.Type       0.00\n",
       "Event.Id                 0.00"
      ]
     },
     "execution_count": 111,
     "metadata": {},
     "output_type": "execute_result"
    }
   ],
   "source": [
    "round((df.isna().sum().sort_values(ascending = False) / df.shape[0] * 100), 2).to_frame(\"%\")"
   ]
  },
  {
   "cell_type": "code",
   "execution_count": 112,
   "metadata": {},
   "outputs": [
    {
     "data": {
      "text/plain": [
       "0"
      ]
     },
     "execution_count": 112,
     "metadata": {},
     "output_type": "execute_result"
    }
   ],
   "source": [
    "df.duplicated().sum()"
   ]
  },
  {
   "cell_type": "markdown",
   "metadata": {},
   "source": [
    "1. We have a dataset of 88889 rows and 31 columns\n",
    "2. 5 columns have float64 data type, 26 columns - object data type\n",
    "3. No duplicates found\n",
    "4. Uninformative columns (based on our task) to be deleted.  \n",
    "Such as: Schedule, Air.carrier, FAR.Description, Airport.Code, Airport.Name, Publication.Date, Purpose.of.flight, Registration.Number, Amateur.Built, Longitude, Latitude, Location, Country, Report.Status\n",
    "4. Accident.Number duplicates Event.Id. Accident.Number to be deleted\n",
    "4. Injury.Severity duplicates Total.Fatal.Injuries, Total.Minor.Injuries, Total.Serious.Injuries  \n",
    "and Total.Uninjured. Injury.Severity to be deleted\n",
    "4. Data in dataframe to be converted into lowercase type where needed\n",
    "5. Name of columns to be converted into snake style\n",
    "6. Column Event.Date to be converted to datetime type\n",
    "8. Columns: Number.of.Engines,Total.Fatal.Injuries, Iotal.Minor.Injuries, Total.Serious.Injuries, Total.Uninjured  to be converted to integer data type\n",
    "11. Almost all the columns, except Event.Date, Accident.Number, Investigation.Type ,Event.Id, have missing values. Analyse them and find solution for missing values\n",
    "12. Add new columns if needed\n",
    "\n",
    "\n",
    "\n",
    "\n"
   ]
  },
  {
   "cell_type": "markdown",
   "metadata": {},
   "source": [
    "### Data Preparation"
   ]
  },
  {
   "cell_type": "markdown",
   "metadata": {},
   "source": [
    "Dropping all the nuninformative columns"
   ]
  },
  {
   "cell_type": "code",
   "execution_count": 113,
   "metadata": {},
   "outputs": [],
   "source": [
    "df = df.drop(['Accident.Number', 'Schedule', 'Air.carrier',\n",
    "              'FAR.Description', 'Airport.Code', 'Airport.Name',\n",
    "              'Publication.Date', 'Purpose.of.flight', \n",
    "              'Registration.Number', 'Amateur.Built', \n",
    "              'Longitude', 'Latitude', 'Report.Status',\n",
    "              'Location', 'Country', 'Injury.Severity'], axis=1)"
   ]
  },
  {
   "cell_type": "markdown",
   "metadata": {},
   "source": [
    "Correcting names of the columns"
   ]
  },
  {
   "cell_type": "code",
   "execution_count": 114,
   "metadata": {},
   "outputs": [],
   "source": [
    "df.columns = df.columns.str.lower()\n",
    "df.columns = df.columns.str.replace('.', '_')"
   ]
  },
  {
   "cell_type": "markdown",
   "metadata": {},
   "source": [
    "Converting column 'event_date' to datetime data type"
   ]
  },
  {
   "cell_type": "code",
   "execution_count": 115,
   "metadata": {},
   "outputs": [],
   "source": [
    "df['event_date'] = pd.to_datetime(df['event_date'], format='%Y-%m-%d')"
   ]
  },
  {
   "cell_type": "markdown",
   "metadata": {},
   "source": [
    "Extracting the year, month, and day components from 'event_date'  \n",
    "Adding new columns"
   ]
  },
  {
   "cell_type": "code",
   "execution_count": 116,
   "metadata": {},
   "outputs": [],
   "source": [
    "\n",
    "df['event_year'] = df['event_date'].dt.year\n",
    "df['event_month'] = df['event_date'].dt.month\n",
    "df['event_day'] = df['event_date'].dt.dayofweek"
   ]
  },
  {
   "cell_type": "code",
   "execution_count": 117,
   "metadata": {},
   "outputs": [
    {
     "data": {
      "text/html": [
       "<div>\n",
       "<style scoped>\n",
       "    .dataframe tbody tr th:only-of-type {\n",
       "        vertical-align: middle;\n",
       "    }\n",
       "\n",
       "    .dataframe tbody tr th {\n",
       "        vertical-align: top;\n",
       "    }\n",
       "\n",
       "    .dataframe thead th {\n",
       "        text-align: right;\n",
       "    }\n",
       "</style>\n",
       "<table border=\"1\" class=\"dataframe\">\n",
       "  <thead>\n",
       "    <tr style=\"text-align: right;\">\n",
       "      <th></th>\n",
       "      <th>event_id</th>\n",
       "      <th>investigation_type</th>\n",
       "      <th>event_date</th>\n",
       "      <th>aircraft_damage</th>\n",
       "      <th>aircraft_category</th>\n",
       "      <th>make</th>\n",
       "      <th>model</th>\n",
       "      <th>number_of_engines</th>\n",
       "      <th>engine_type</th>\n",
       "      <th>total_fatal_injuries</th>\n",
       "      <th>total_serious_injuries</th>\n",
       "      <th>total_minor_injuries</th>\n",
       "      <th>total_uninjured</th>\n",
       "      <th>weather_condition</th>\n",
       "      <th>broad_phase_of_flight</th>\n",
       "      <th>event_year</th>\n",
       "      <th>event_month</th>\n",
       "      <th>event_day</th>\n",
       "    </tr>\n",
       "  </thead>\n",
       "  <tbody>\n",
       "    <tr>\n",
       "      <th>0</th>\n",
       "      <td>20001218X45444</td>\n",
       "      <td>Accident</td>\n",
       "      <td>1948-10-24</td>\n",
       "      <td>Destroyed</td>\n",
       "      <td>NaN</td>\n",
       "      <td>Stinson</td>\n",
       "      <td>108-3</td>\n",
       "      <td>1.0</td>\n",
       "      <td>Reciprocating</td>\n",
       "      <td>2.0</td>\n",
       "      <td>0.0</td>\n",
       "      <td>0.0</td>\n",
       "      <td>0.0</td>\n",
       "      <td>UNK</td>\n",
       "      <td>Cruise</td>\n",
       "      <td>1948</td>\n",
       "      <td>10</td>\n",
       "      <td>6</td>\n",
       "    </tr>\n",
       "    <tr>\n",
       "      <th>1</th>\n",
       "      <td>20001218X45447</td>\n",
       "      <td>Accident</td>\n",
       "      <td>1962-07-19</td>\n",
       "      <td>Destroyed</td>\n",
       "      <td>NaN</td>\n",
       "      <td>Piper</td>\n",
       "      <td>PA24-180</td>\n",
       "      <td>1.0</td>\n",
       "      <td>Reciprocating</td>\n",
       "      <td>4.0</td>\n",
       "      <td>0.0</td>\n",
       "      <td>0.0</td>\n",
       "      <td>0.0</td>\n",
       "      <td>UNK</td>\n",
       "      <td>Unknown</td>\n",
       "      <td>1962</td>\n",
       "      <td>7</td>\n",
       "      <td>3</td>\n",
       "    </tr>\n",
       "    <tr>\n",
       "      <th>2</th>\n",
       "      <td>20061025X01555</td>\n",
       "      <td>Accident</td>\n",
       "      <td>1974-08-30</td>\n",
       "      <td>Destroyed</td>\n",
       "      <td>NaN</td>\n",
       "      <td>Cessna</td>\n",
       "      <td>172M</td>\n",
       "      <td>1.0</td>\n",
       "      <td>Reciprocating</td>\n",
       "      <td>3.0</td>\n",
       "      <td>NaN</td>\n",
       "      <td>NaN</td>\n",
       "      <td>NaN</td>\n",
       "      <td>IMC</td>\n",
       "      <td>Cruise</td>\n",
       "      <td>1974</td>\n",
       "      <td>8</td>\n",
       "      <td>4</td>\n",
       "    </tr>\n",
       "    <tr>\n",
       "      <th>3</th>\n",
       "      <td>20001218X45448</td>\n",
       "      <td>Accident</td>\n",
       "      <td>1977-06-19</td>\n",
       "      <td>Destroyed</td>\n",
       "      <td>NaN</td>\n",
       "      <td>Rockwell</td>\n",
       "      <td>112</td>\n",
       "      <td>1.0</td>\n",
       "      <td>Reciprocating</td>\n",
       "      <td>2.0</td>\n",
       "      <td>0.0</td>\n",
       "      <td>0.0</td>\n",
       "      <td>0.0</td>\n",
       "      <td>IMC</td>\n",
       "      <td>Cruise</td>\n",
       "      <td>1977</td>\n",
       "      <td>6</td>\n",
       "      <td>6</td>\n",
       "    </tr>\n",
       "    <tr>\n",
       "      <th>4</th>\n",
       "      <td>20041105X01764</td>\n",
       "      <td>Accident</td>\n",
       "      <td>1979-08-02</td>\n",
       "      <td>Destroyed</td>\n",
       "      <td>NaN</td>\n",
       "      <td>Cessna</td>\n",
       "      <td>501</td>\n",
       "      <td>NaN</td>\n",
       "      <td>NaN</td>\n",
       "      <td>1.0</td>\n",
       "      <td>2.0</td>\n",
       "      <td>NaN</td>\n",
       "      <td>0.0</td>\n",
       "      <td>VMC</td>\n",
       "      <td>Approach</td>\n",
       "      <td>1979</td>\n",
       "      <td>8</td>\n",
       "      <td>3</td>\n",
       "    </tr>\n",
       "  </tbody>\n",
       "</table>\n",
       "</div>"
      ],
      "text/plain": [
       "         event_id investigation_type event_date aircraft_damage  \\\n",
       "0  20001218X45444           Accident 1948-10-24       Destroyed   \n",
       "1  20001218X45447           Accident 1962-07-19       Destroyed   \n",
       "2  20061025X01555           Accident 1974-08-30       Destroyed   \n",
       "3  20001218X45448           Accident 1977-06-19       Destroyed   \n",
       "4  20041105X01764           Accident 1979-08-02       Destroyed   \n",
       "\n",
       "  aircraft_category      make     model  number_of_engines    engine_type  \\\n",
       "0               NaN   Stinson     108-3                1.0  Reciprocating   \n",
       "1               NaN     Piper  PA24-180                1.0  Reciprocating   \n",
       "2               NaN    Cessna      172M                1.0  Reciprocating   \n",
       "3               NaN  Rockwell       112                1.0  Reciprocating   \n",
       "4               NaN    Cessna       501                NaN            NaN   \n",
       "\n",
       "   total_fatal_injuries  total_serious_injuries  total_minor_injuries  \\\n",
       "0                   2.0                     0.0                   0.0   \n",
       "1                   4.0                     0.0                   0.0   \n",
       "2                   3.0                     NaN                   NaN   \n",
       "3                   2.0                     0.0                   0.0   \n",
       "4                   1.0                     2.0                   NaN   \n",
       "\n",
       "   total_uninjured weather_condition broad_phase_of_flight  event_year  \\\n",
       "0              0.0               UNK                Cruise        1948   \n",
       "1              0.0               UNK               Unknown        1962   \n",
       "2              NaN               IMC                Cruise        1974   \n",
       "3              0.0               IMC                Cruise        1977   \n",
       "4              0.0               VMC              Approach        1979   \n",
       "\n",
       "   event_month  event_day  \n",
       "0           10          6  \n",
       "1            7          3  \n",
       "2            8          4  \n",
       "3            6          6  \n",
       "4            8          3  "
      ]
     },
     "execution_count": 117,
     "metadata": {},
     "output_type": "execute_result"
    }
   ],
   "source": [
    "df.head()"
   ]
  },
  {
   "cell_type": "markdown",
   "metadata": {},
   "source": [
    "Checking unique values of the dataframe columns"
   ]
  },
  {
   "cell_type": "code",
   "execution_count": 118,
   "metadata": {},
   "outputs": [
    {
     "name": "stdout",
     "output_type": "stream",
     "text": [
      "event_id : ['20001218X45444' '20001218X45447' '20061025X01555' ... '20221227106497'\n",
      " '20221227106498' '20221230106513']\n",
      "investigation_type : ['Accident' 'Incident']\n",
      "event_date : ['1948-10-24T00:00:00.000000000' '1962-07-19T00:00:00.000000000'\n",
      " '1974-08-30T00:00:00.000000000' ... '2022-12-22T00:00:00.000000000'\n",
      " '2022-12-26T00:00:00.000000000' '2022-12-29T00:00:00.000000000']\n",
      "aircraft_damage : ['Destroyed' 'Substantial' 'Minor' nan 'Unknown']\n",
      "aircraft_category : [nan 'Airplane' 'Helicopter' 'Glider' 'Balloon' 'Gyrocraft' 'Ultralight'\n",
      " 'Unknown' 'Blimp' 'Powered-Lift' 'Weight-Shift' 'Powered Parachute'\n",
      " 'Rocket' 'WSFT' 'UNK' 'ULTR']\n",
      "make : ['Stinson' 'Piper' 'Cessna' ... 'JAMES R DERNOVSEK' 'ORLICAN S R O'\n",
      " 'ROYSE RALPH L']\n",
      "model : ['108-3' 'PA24-180' '172M' ... 'ROTORWAY EXEC 162-F' 'KITFOX S5'\n",
      " 'M-8 EAGLE']\n",
      "number_of_engines : [ 1. nan  2.  0.  3.  4.  8.  6.]\n",
      "engine_type : ['Reciprocating' nan 'Turbo Fan' 'Turbo Shaft' 'Unknown' 'Turbo Prop'\n",
      " 'Turbo Jet' 'None' 'Electric' 'Hybrid Rocket' 'Geared Turbofan' 'LR'\n",
      " 'NONE' 'UNK']\n",
      "total_fatal_injuries : [  2.   4.   3.   1.  nan   0.   8.  78.   7.   6.   5. 153.  12.  14.\n",
      "  23.  10.  11.   9.  17.  13.  29.  70. 135.  31. 256.  25.  82. 156.\n",
      "  28.  18.  43.  15. 270. 144. 174. 111. 131.  20.  73.  27.  34.  87.\n",
      "  30.  16.  47.  56.  37. 132.  68.  54.  52.  65.  72. 160. 189. 123.\n",
      "  33. 110. 230.  97. 349. 125.  35. 228.  75. 104. 229.  80. 217. 169.\n",
      "  88.  19.  60. 113. 143.  83.  24.  44.  64.  92. 118. 265.  26. 138.\n",
      " 206.  71.  21.  46. 102. 115. 141.  55. 121.  45. 145. 117. 107. 124.\n",
      "  49. 154.  96. 114. 199.  89.  57. 152.  90. 103. 158. 157.  42.  77.\n",
      " 127.  50. 239. 295.  58. 162. 150. 224.  62.  66. 112. 188.  41. 176.]\n",
      "total_serious_injuries : [  0.  nan   2.   1.   6.   4.   5.  10.   3.   8.   9.   7.  15.  17.\n",
      "  28.  26.  47.  14.  81.  13. 106.  60.  16.  21.  50.  44.  18.  12.\n",
      "  45.  39.  43.  11.  25.  59.  23.  55.  63.  88.  41.  34.  53.  33.\n",
      "  67.  35.  20. 137.  19.  27. 125. 161.  22.]\n",
      "total_minor_injuries : [  0.  nan   1.   3.   2.   4.  24.   6.   5.  25.  17.  19.  33.  14.\n",
      "   8.  13.  15.   7.   9.  16.  20.  11.  12.  10.  38.  42.  29.  62.\n",
      "  28.  31.  39.  32.  18.  27.  57.  50.  23. 125.  45.  26.  36.  69.\n",
      "  21.  96.  30.  22.  58. 171.  65.  71. 200.  68.  47. 380.  35.  43.\n",
      "  84.  40.]\n",
      "total_uninjured : [  0.  nan  44.   2.   1.   3.   6.   4. 149.  12. 182. 154.   5.  10.\n",
      "   7. 119.  36.  51.  16.  83.   9.  68.  30.  20.  18.   8. 108.  11.\n",
      " 152.  21.  48.  56. 113. 129. 109.  29.  13.  84.  74. 142. 102. 393.\n",
      " 128. 112.  17.  65.  67. 136.  23. 116.  22.  57.  58.  73. 203.  31.\n",
      " 201. 412. 159.  39. 186. 588.  82.  95. 146. 190. 245. 172.  52.  25.\n",
      "  59. 131. 151. 180. 150.  86.  19. 133. 240.  15. 145. 125. 440.  77.\n",
      " 122. 205. 289. 110.  79.  66.  87.  78.  49. 104. 250.  33. 138. 100.\n",
      "  53. 158. 127. 160. 260.  47.  38. 165. 495.  81.  41.  14.  72.  98.\n",
      " 263. 188. 239.  27. 105. 111. 212. 157.  46. 121.  75.  71.  45.  91.\n",
      "  99.  85.  96.  50.  93. 276. 365. 371. 200. 103. 189.  37. 107.  61.\n",
      "  26. 271. 130.  89. 439. 132. 219.  43. 238. 195. 118. 175.  32. 507.\n",
      " 421.  90. 225. 269. 169. 236. 224. 134. 106. 331. 140.  94. 192. 161.\n",
      " 270.  69. 436. 213. 233. 115.  42. 167. 137. 114. 148. 222.  92. 375.\n",
      "  76. 171. 173. 246. 234. 123. 220. 202. 408. 279. 363. 135. 528. 334.\n",
      " 178. 147. 126.  62.  70.  97. 228. 226.  64. 290. 206. 297. 349. 208.\n",
      " 144.  54.  24. 258. 304. 274. 286.  55. 199. 221.  80. 272. 211. 262.\n",
      " 441. 194. 309. 185. 261. 241. 383. 177. 259. 244. 254. 156.  40.  34.\n",
      " 247. 176.  63.  28. 218. 282. 320. 204. 124. 215. 298. 120. 280. 179.\n",
      " 315. 461. 153.  60. 308.  88. 361. 277. 191. 235. 187. 101. 162.  35.\n",
      " 197. 193. 164. 370. 387. 163. 139. 267. 357. 339. 288. 231. 300. 255.\n",
      " 306. 443. 385. 248. 459. 141. 414. 229. 166. 209. 184. 168. 170. 198.\n",
      " 299. 573. 223. 265. 322. 196. 117. 253. 399. 360. 252. 217. 155. 183.\n",
      " 227. 249. 329. 340. 699. 325. 287. 143. 243. 230. 386. 181. 257. 283.\n",
      " 404. 319. 450. 356. 216. 174. 558. 214. 448. 324. 338. 273. 232. 401.\n",
      " 312. 368. 501. 237. 307. 296. 291. 403. 314. 285. 311. 293. 352. 332.\n",
      " 384. 275. 210. 268. 326. 454. 278. 576. 380. 394. 362. 397. 359. 264.\n",
      " 333. 367. 302. 348. 351. 358. 295. 321. 521. 301. 294. 378. 207. 406.\n",
      " 251. 455.]\n",
      "weather_condition : ['UNK' 'IMC' 'VMC' nan 'Unk']\n",
      "broad_phase_of_flight : ['Cruise' 'Unknown' 'Approach' 'Climb' 'Takeoff' 'Landing' 'Taxi'\n",
      " 'Descent' 'Maneuvering' 'Standing' 'Go-around' 'Other' nan]\n",
      "event_year : [1948 1962 1974 1977 1979 1981 1982 1983 1984 1985 1986 1987 1988 1989\n",
      " 1990 1991 1992 1993 1994 1995 1996 1997 1998 1999 2000 2001 2002 2003\n",
      " 2004 2005 2006 2007 2008 2009 2010 2011 2012 2013 2014 2015 2016 2017\n",
      " 2018 2019 2020 2021 2022]\n",
      "event_month : [10  7  8  6  9  1  2  3  4  5 11 12]\n",
      "event_day : [6 3 4 0 5 1 2]\n"
     ]
    }
   ],
   "source": [
    "for index in df:\n",
    "    print(index,\":\", df[index].unique())"
   ]
  },
  {
   "cell_type": "markdown",
   "metadata": {},
   "source": [
    "Converting strings in 'weather_condition' into lowercase"
   ]
  },
  {
   "cell_type": "code",
   "execution_count": 119,
   "metadata": {},
   "outputs": [],
   "source": [
    "df['weather_condition'] = df['weather_condition'].str.lower()"
   ]
  },
  {
   "cell_type": "code",
   "execution_count": 120,
   "metadata": {},
   "outputs": [
    {
     "data": {
      "text/plain": [
       "array(['unk', 'imc', 'vmc', nan], dtype=object)"
      ]
     },
     "execution_count": 120,
     "metadata": {},
     "output_type": "execute_result"
    }
   ],
   "source": [
    "df['weather_condition'].unique()"
   ]
  },
  {
   "cell_type": "markdown",
   "metadata": {},
   "source": [
    "Filling up missing values with \"unk\"(Unknown) value"
   ]
  },
  {
   "cell_type": "code",
   "execution_count": 121,
   "metadata": {},
   "outputs": [],
   "source": [
    "df['weather_condition'] = df['weather_condition'].fillna('unk')"
   ]
  },
  {
   "cell_type": "markdown",
   "metadata": {},
   "source": [
    "Filling missing values of 'broad_phase_of_flight' with 'Unknown' value"
   ]
  },
  {
   "cell_type": "code",
   "execution_count": 122,
   "metadata": {},
   "outputs": [],
   "source": [
    "df['broad_phase_of_flight'] = df['broad_phase_of_flight'].fillna('Unknown')"
   ]
  },
  {
   "cell_type": "markdown",
   "metadata": {},
   "source": [
    "Exploring missing values of 'make'"
   ]
  },
  {
   "cell_type": "code",
   "execution_count": 123,
   "metadata": {},
   "outputs": [
    {
     "data": {
      "text/plain": [
       "Cessna     22227\n",
       "Piper      12029\n",
       "CESSNA      4922\n",
       "Beech       4330\n",
       "PIPER       2841\n",
       "Bell        2134\n",
       "Boeing      1594\n",
       "BOEING      1151\n",
       "Grumman     1094\n",
       "Mooney      1092\n",
       "Name: make, dtype: int64"
      ]
     },
     "execution_count": 123,
     "metadata": {},
     "output_type": "execute_result"
    }
   ],
   "source": [
    "df['make'].value_counts().head(10)"
   ]
  },
  {
   "cell_type": "markdown",
   "metadata": {},
   "source": [
    "Converting to lower type to avoid duplicates"
   ]
  },
  {
   "cell_type": "code",
   "execution_count": 124,
   "metadata": {},
   "outputs": [],
   "source": [
    "df['make'] = df['make'].str.lower()"
   ]
  },
  {
   "cell_type": "markdown",
   "metadata": {},
   "source": [
    "Dropping missing values"
   ]
  },
  {
   "cell_type": "code",
   "execution_count": 125,
   "metadata": {},
   "outputs": [],
   "source": [
    "df.dropna(subset=['make'], inplace=True)"
   ]
  },
  {
   "cell_type": "markdown",
   "metadata": {},
   "source": [
    "Exploring missing values of 'model'"
   ]
  },
  {
   "cell_type": "code",
   "execution_count": 126,
   "metadata": {},
   "outputs": [
    {
     "data": {
      "text/plain": [
       "152                   2367\n",
       "172                   1756\n",
       "172N                  1164\n",
       "PA-28-140              932\n",
       "150                    829\n",
       "                      ... \n",
       "FX 210                   1\n",
       "AG915                    1\n",
       "SZD-48 JANTAR            1\n",
       "PITTS MA-1               1\n",
       "HAWK ARROW II SLSA       1\n",
       "Name: model, Length: 12310, dtype: int64"
      ]
     },
     "execution_count": 126,
     "metadata": {},
     "output_type": "execute_result"
    }
   ],
   "source": [
    "df['model'].value_counts()"
   ]
  },
  {
   "cell_type": "markdown",
   "metadata": {},
   "source": [
    "Converting to lower type to avoid duplicates"
   ]
  },
  {
   "cell_type": "code",
   "execution_count": 127,
   "metadata": {},
   "outputs": [],
   "source": [
    "df['model'] = df['model'].str.lower()"
   ]
  },
  {
   "cell_type": "markdown",
   "metadata": {},
   "source": [
    "Dropping missing values"
   ]
  },
  {
   "cell_type": "code",
   "execution_count": 128,
   "metadata": {},
   "outputs": [],
   "source": [
    "df.dropna(subset=['model'], inplace=True)"
   ]
  },
  {
   "cell_type": "markdown",
   "metadata": {},
   "source": [
    "Exploring missing values of 'aircraft_damage'"
   ]
  },
  {
   "cell_type": "code",
   "execution_count": 129,
   "metadata": {},
   "outputs": [
    {
     "data": {
      "text/plain": [
       "Substantial    64097\n",
       "Destroyed      18597\n",
       "Minor           2792\n",
       "Unknown          119\n",
       "Name: aircraft_damage, dtype: int64"
      ]
     },
     "execution_count": 129,
     "metadata": {},
     "output_type": "execute_result"
    }
   ],
   "source": [
    "df['aircraft_damage'].value_counts()"
   ]
  },
  {
   "cell_type": "markdown",
   "metadata": {},
   "source": [
    "Filling  missing values with 'Unknown' value"
   ]
  },
  {
   "cell_type": "code",
   "execution_count": 130,
   "metadata": {},
   "outputs": [],
   "source": [
    "df['aircraft_damage'] = df['aircraft_damage'].fillna('Unknown')"
   ]
  },
  {
   "cell_type": "markdown",
   "metadata": {},
   "source": [
    "Dropping all missing values in 'total_fatal_injuries', 'total_serious_injuries', 'total_minor_injuries', 'total_uninjured'"
   ]
  },
  {
   "cell_type": "code",
   "execution_count": 131,
   "metadata": {},
   "outputs": [],
   "source": [
    "df = df.dropna(subset=['total_fatal_injuries', 'total_serious_injuries', \n",
    "                       'total_minor_injuries', 'total_uninjured'])"
   ]
  },
  {
   "cell_type": "markdown",
   "metadata": {},
   "source": [
    "Converting the columns above into integer data type"
   ]
  },
  {
   "cell_type": "code",
   "execution_count": 132,
   "metadata": {},
   "outputs": [],
   "source": [
    "df['total_fatal_injuries'] = df['total_fatal_injuries'].astype('int64')\n",
    "df['total_serious_injuries'] = df['total_serious_injuries'].astype('int64')\n",
    "df['total_minor_injuries'] = df['total_minor_injuries'].astype('int64')\n",
    "df['total_uninjured'] = df['total_uninjured'].astype('int64')"
   ]
  },
  {
   "cell_type": "markdown",
   "metadata": {},
   "source": [
    "Creating a column \"Total Injured\" to collect the total amount of person injured at all"
   ]
  },
  {
   "cell_type": "code",
   "execution_count": 133,
   "metadata": {},
   "outputs": [],
   "source": [
    "df['total_injured'] = df['total_fatal_injuries'] + df[\"total_serious_injuries\"] + df[\"total_minor_injuries\"]"
   ]
  },
  {
   "cell_type": "markdown",
   "metadata": {},
   "source": [
    "Create new columns splitting accidents into commercial or private based on the top 10 "
   ]
  },
  {
   "cell_type": "code",
   "execution_count": 149,
   "metadata": {},
   "outputs": [],
   "source": [
    "commercial_top_10 = ['boeing', 'airbus', 'embraer', \n",
    "                  'bombardier', 'comac', 'mitsubishi', \n",
    "                  'uac', 'aviastar_sp', 'kapa', 'gippsaero']\n",
    "private_top_10 = ['airbus corporate jets', 'boeing business jet', \n",
    "                     'bombardier', 'beechcraft', 'cessna', \n",
    "                     'dassault aviation', 'embraer', \n",
    "                     'gulfstream aerospace', 'pilatus business aircraft', \n",
    "                     'hawker']"
   ]
  },
  {
   "cell_type": "code",
   "execution_count": 151,
   "metadata": {},
   "outputs": [],
   "source": [
    "#if df['make'].isin(commercial_top_10):\n",
    "#    print(\"h\")\n"
   ]
  },
  {
   "cell_type": "markdown",
   "metadata": {},
   "source": [
    "Checking how many airplanes we have before cleaning "
   ]
  },
  {
   "cell_type": "code",
   "execution_count": 81,
   "metadata": {},
   "outputs": [
    {
     "data": {
      "text/plain": [
       "Airplane             24115\n",
       "Helicopter            2999\n",
       "Glider                 420\n",
       "Balloon                192\n",
       "Weight-Shift           161\n",
       "Gyrocraft              153\n",
       "Powered Parachute       91\n",
       "Ultralight              24\n",
       "Unknown                 14\n",
       "WSFT                     9\n",
       "UNK                      2\n",
       "Powered-Lift             2\n",
       "Rocket                   1\n",
       "Blimp                    1\n",
       "ULTR                     1\n",
       "Name: aircraft_category, dtype: int64"
      ]
     },
     "execution_count": 81,
     "metadata": {},
     "output_type": "execute_result"
    }
   ],
   "source": [
    "airplane_before = df['aircraft_category'].value_counts()\n",
    "airplane_before"
   ]
  },
  {
   "cell_type": "markdown",
   "metadata": {},
   "source": [
    "Defining a function that is going to fill up missing values of 'aircraft_category' based on mode value in 'model' "
   ]
  },
  {
   "cell_type": "code",
   "execution_count": 82,
   "metadata": {},
   "outputs": [],
   "source": [
    "def aircraft(row):\n",
    "    if type(row['aircraft_category']) == str:\n",
    "        return row['aircraft_category']\n",
    "\n",
    "    else:\n",
    "        mode_aircraft = df.loc[df['model'] == row['model'], 'aircraft_category'].mode()\n",
    "        return mode_aircraft.iloc[0] if not mode_aircraft.empty else 'Unknown'\n"
   ]
  },
  {
   "cell_type": "markdown",
   "metadata": {},
   "source": [
    "Apply the function to each row"
   ]
  },
  {
   "cell_type": "code",
   "execution_count": 83,
   "metadata": {},
   "outputs": [],
   "source": [
    "df['aircraft_category'] = df.apply(aircraft, axis=1)"
   ]
  },
  {
   "cell_type": "markdown",
   "metadata": {},
   "source": [
    "Checking how many airplanes we have after cleaning the correspondent column"
   ]
  },
  {
   "cell_type": "code",
   "execution_count": 84,
   "metadata": {},
   "outputs": [
    {
     "data": {
      "text/plain": [
       "Airplane             59253\n",
       "Unknown               7197\n",
       "Helicopter            6073\n",
       "Glider                 820\n",
       "Balloon                393\n",
       "Gyrocraft              230\n",
       "Weight-Shift           169\n",
       "Powered Parachute       92\n",
       "Ultralight              27\n",
       "WSFT                     9\n",
       "UNK                      2\n",
       "Powered-Lift             2\n",
       "Rocket                   1\n",
       "Blimp                    1\n",
       "ULTR                     1\n",
       "Name: aircraft_category, dtype: int64"
      ]
     },
     "execution_count": 84,
     "metadata": {},
     "output_type": "execute_result"
    }
   ],
   "source": [
    "airplane_after = df['aircraft_category'].value_counts()\n",
    "airplane_after"
   ]
  },
  {
   "cell_type": "code",
   "execution_count": 85,
   "metadata": {},
   "outputs": [
    {
     "name": "stdout",
     "output_type": "stream",
     "text": [
      "before: Airplane 24115\n",
      "after: Airplane 59253\n",
      "change ratio: 2.46\n"
     ]
    }
   ],
   "source": [
    "print(\"before:\", airplane_before.index[0], airplane_before.values[0])\n",
    "print(\"after:\", airplane_after.index[0], airplane_after.values[0])\n",
    "print(\"change ratio:\", round((airplane_after.values[0] / airplane_before.values[0]), 2))"
   ]
  },
  {
   "cell_type": "markdown",
   "metadata": {},
   "source": [
    "Defining a function that is going to fill up missing values of 'number_of_engines' based on mean value in 'model' "
   ]
  },
  {
   "cell_type": "code",
   "execution_count": 86,
   "metadata": {},
   "outputs": [],
   "source": [
    "def numbers(row):\n",
    "    if row['number_of_engines'] >= 0:\n",
    "        return row['number_of_engines']\n",
    "\n",
    "    else:\n",
    "        mean_engines = df.loc[df['model'] == row['model'], 'number_of_engines'].mean()\n",
    "        return round(mean_engines) if not np.isnan(mean_engines) else 'Unknown'"
   ]
  },
  {
   "cell_type": "markdown",
   "metadata": {},
   "source": [
    "Apply the function to each row"
   ]
  },
  {
   "cell_type": "code",
   "execution_count": 87,
   "metadata": {},
   "outputs": [],
   "source": [
    "df['number_of_engines'] = df.apply(numbers, axis=1)"
   ]
  },
  {
   "cell_type": "markdown",
   "metadata": {},
   "source": [
    "Converting data into integer data type"
   ]
  },
  {
   "cell_type": "code",
   "execution_count": 88,
   "metadata": {},
   "outputs": [],
   "source": [
    "df['number_of_engines'] = df['number_of_engines'] != 'Unknown'\n",
    "df['number_of_engines'] = df['number_of_engines'].astype('int64')"
   ]
  },
  {
   "cell_type": "markdown",
   "metadata": {},
   "source": [
    "Defining a function that is going to fill up missing values of 'engine_type' based on mode value in 'model'.  \n"
   ]
  },
  {
   "cell_type": "code",
   "execution_count": 89,
   "metadata": {},
   "outputs": [],
   "source": [
    "def engines(row):\n",
    "    if type(row['engine_type']) == str:\n",
    "        return row['engine_type']\n",
    "\n",
    "    else:\n",
    "        mode_engine = df.loc[df['model'] == row['model'], 'engine_type'].mode()\n",
    "        return mode_engine.iloc[0] if not mode_engine.empty else 'Unknown'\n"
   ]
  },
  {
   "cell_type": "markdown",
   "metadata": {},
   "source": [
    "Apply the function to each row"
   ]
  },
  {
   "cell_type": "code",
   "execution_count": 90,
   "metadata": {},
   "outputs": [],
   "source": [
    "df['engine_type'] = df.apply(engines, axis=1)"
   ]
  },
  {
   "cell_type": "code",
   "execution_count": 91,
   "metadata": {},
   "outputs": [
    {
     "data": {
      "text/plain": [
       "event_id                  0\n",
       "investigation_type        0\n",
       "event_date                0\n",
       "aircraft_damage           0\n",
       "aircraft_category         0\n",
       "make                      0\n",
       "model                     0\n",
       "number_of_engines         0\n",
       "engine_type               0\n",
       "total_fatal_injuries      0\n",
       "total_serious_injuries    0\n",
       "total_minor_injuries      0\n",
       "total_uninjured           0\n",
       "weather_condition         0\n",
       "broad_phase_of_flight     0\n",
       "event_year                0\n",
       "event_month               0\n",
       "event_day                 0\n",
       "total_injured             0\n",
       "dtype: int64"
      ]
     },
     "execution_count": 91,
     "metadata": {},
     "output_type": "execute_result"
    }
   ],
   "source": [
    "df.isna().sum()"
   ]
  },
  {
   "cell_type": "markdown",
   "metadata": {},
   "source": [
    "Cheking whether we have duplicates after we have processed data"
   ]
  },
  {
   "cell_type": "code",
   "execution_count": 92,
   "metadata": {},
   "outputs": [
    {
     "data": {
      "text/plain": [
       "25"
      ]
     },
     "execution_count": 92,
     "metadata": {},
     "output_type": "execute_result"
    }
   ],
   "source": [
    "df.duplicated().sum()"
   ]
  },
  {
   "cell_type": "code",
   "execution_count": 93,
   "metadata": {},
   "outputs": [],
   "source": [
    "df = df.drop_duplicates()"
   ]
  },
  {
   "cell_type": "code",
   "execution_count": 94,
   "metadata": {},
   "outputs": [
    {
     "name": "stdout",
     "output_type": "stream",
     "text": [
      "<class 'pandas.core.frame.DataFrame'>\n",
      "Int64Index: 74245 entries, 0 to 88888\n",
      "Data columns (total 19 columns):\n",
      " #   Column                  Non-Null Count  Dtype         \n",
      "---  ------                  --------------  -----         \n",
      " 0   event_id                74245 non-null  object        \n",
      " 1   investigation_type      74245 non-null  object        \n",
      " 2   event_date              74245 non-null  datetime64[ns]\n",
      " 3   aircraft_damage         74245 non-null  object        \n",
      " 4   aircraft_category       74245 non-null  object        \n",
      " 5   make                    74245 non-null  object        \n",
      " 6   model                   74245 non-null  object        \n",
      " 7   number_of_engines       74245 non-null  int64         \n",
      " 8   engine_type             74245 non-null  object        \n",
      " 9   total_fatal_injuries    74245 non-null  int64         \n",
      " 10  total_serious_injuries  74245 non-null  int64         \n",
      " 11  total_minor_injuries    74245 non-null  int64         \n",
      " 12  total_uninjured         74245 non-null  int64         \n",
      " 13  weather_condition       74245 non-null  object        \n",
      " 14  broad_phase_of_flight   74245 non-null  object        \n",
      " 15  event_year              74245 non-null  int64         \n",
      " 16  event_month             74245 non-null  int64         \n",
      " 17  event_day               74245 non-null  int64         \n",
      " 18  total_injured           74245 non-null  int64         \n",
      "dtypes: datetime64[ns](1), int64(9), object(9)\n",
      "memory usage: 11.3+ MB\n"
     ]
    }
   ],
   "source": [
    "df.info()"
   ]
  },
  {
   "cell_type": "markdown",
   "metadata": {},
   "source": [
    "- The uninformative columns were dropped\n",
    "- Names of the columns were converted to snake style\n",
    "- 'event_date' was converted to datetime data\n",
    "- 'event_year', 'event_month', 'event_day' were created\n",
    "- 'weather_condition', 'aircraft_damage', 'broad_phase_of_flight'  \n",
    "missing values were filled with 'unknown' value\n",
    "- missing values of 'make' and 'model' were dropped.  \n",
    "all the values were converted to lower in order to avoid duplicates\n",
    "- 'aircraft_category', 'engine_type' missing values were filled with mode value in 'model'\n",
    "- 'number_of_engines' missing values were filled with mean value in 'model'.  \n",
    "- 'total_fatal_injuries', 'total_serious_injuries', 'total_minor_injuries',  \n",
    " 'total_uninjured', 'number_of_engines' were converted to integer data type\n",
    "- duplicated rows were dropped\n"
   ]
  },
  {
   "cell_type": "markdown",
   "metadata": {},
   "source": [
    "## Exploratory Data Analysis"
   ]
  },
  {
   "cell_type": "markdown",
   "metadata": {},
   "source": [
    "### General Data Analysis"
   ]
  },
  {
   "cell_type": "code",
   "execution_count": 95,
   "metadata": {},
   "outputs": [
    {
     "data": {
      "image/png": "[encoded data removed]",
      "text/plain": [
       "<Figure size 432x288 with 9 Axes>"
      ]
     },
     "metadata": {
      "needs_background": "light"
     },
     "output_type": "display_data"
    }
   ],
   "source": [
    "\n",
    "df.hist();"
   ]
  },
  {
   "cell_type": "code",
   "execution_count": 96,
   "metadata": {},
   "outputs": [
    {
     "data": {
      "text/html": [
       "<div>\n",
       "<style scoped>\n",
       "    .dataframe tbody tr th:only-of-type {\n",
       "        vertical-align: middle;\n",
       "    }\n",
       "\n",
       "    .dataframe tbody tr th {\n",
       "        vertical-align: top;\n",
       "    }\n",
       "\n",
       "    .dataframe thead th {\n",
       "        text-align: right;\n",
       "    }\n",
       "</style>\n",
       "<table border=\"1\" class=\"dataframe\">\n",
       "  <thead>\n",
       "    <tr style=\"text-align: right;\">\n",
       "      <th></th>\n",
       "      <th>count</th>\n",
       "      <th>mean</th>\n",
       "      <th>std</th>\n",
       "      <th>min</th>\n",
       "      <th>25%</th>\n",
       "      <th>50%</th>\n",
       "      <th>75%</th>\n",
       "      <th>max</th>\n",
       "    </tr>\n",
       "  </thead>\n",
       "  <tbody>\n",
       "    <tr>\n",
       "      <th>number_of_engines</th>\n",
       "      <td>74245.0</td>\n",
       "      <td>0.988605</td>\n",
       "      <td>0.106137</td>\n",
       "      <td>0.0</td>\n",
       "      <td>1.0</td>\n",
       "      <td>1.0</td>\n",
       "      <td>1.0</td>\n",
       "      <td>1.0</td>\n",
       "    </tr>\n",
       "    <tr>\n",
       "      <th>total_fatal_injuries</th>\n",
       "      <td>74245.0</td>\n",
       "      <td>0.506000</td>\n",
       "      <td>4.217235</td>\n",
       "      <td>0.0</td>\n",
       "      <td>0.0</td>\n",
       "      <td>0.0</td>\n",
       "      <td>0.0</td>\n",
       "      <td>295.0</td>\n",
       "    </tr>\n",
       "    <tr>\n",
       "      <th>total_serious_injuries</th>\n",
       "      <td>74245.0</td>\n",
       "      <td>0.243518</td>\n",
       "      <td>1.467668</td>\n",
       "      <td>0.0</td>\n",
       "      <td>0.0</td>\n",
       "      <td>0.0</td>\n",
       "      <td>0.0</td>\n",
       "      <td>161.0</td>\n",
       "    </tr>\n",
       "    <tr>\n",
       "      <th>total_minor_injuries</th>\n",
       "      <td>74245.0</td>\n",
       "      <td>0.300114</td>\n",
       "      <td>1.538765</td>\n",
       "      <td>0.0</td>\n",
       "      <td>0.0</td>\n",
       "      <td>0.0</td>\n",
       "      <td>0.0</td>\n",
       "      <td>171.0</td>\n",
       "    </tr>\n",
       "    <tr>\n",
       "      <th>total_uninjured</th>\n",
       "      <td>74245.0</td>\n",
       "      <td>4.783016</td>\n",
       "      <td>26.019085</td>\n",
       "      <td>0.0</td>\n",
       "      <td>0.0</td>\n",
       "      <td>1.0</td>\n",
       "      <td>2.0</td>\n",
       "      <td>576.0</td>\n",
       "    </tr>\n",
       "    <tr>\n",
       "      <th>event_year</th>\n",
       "      <td>74245.0</td>\n",
       "      <td>1998.368658</td>\n",
       "      <td>12.755895</td>\n",
       "      <td>1948.0</td>\n",
       "      <td>1987.0</td>\n",
       "      <td>1995.0</td>\n",
       "      <td>2011.0</td>\n",
       "      <td>2022.0</td>\n",
       "    </tr>\n",
       "    <tr>\n",
       "      <th>event_month</th>\n",
       "      <td>74245.0</td>\n",
       "      <td>6.588471</td>\n",
       "      <td>3.054134</td>\n",
       "      <td>1.0</td>\n",
       "      <td>4.0</td>\n",
       "      <td>7.0</td>\n",
       "      <td>9.0</td>\n",
       "      <td>12.0</td>\n",
       "    </tr>\n",
       "    <tr>\n",
       "      <th>event_day</th>\n",
       "      <td>74245.0</td>\n",
       "      <td>3.312048</td>\n",
       "      <td>2.009736</td>\n",
       "      <td>0.0</td>\n",
       "      <td>2.0</td>\n",
       "      <td>4.0</td>\n",
       "      <td>5.0</td>\n",
       "      <td>6.0</td>\n",
       "    </tr>\n",
       "    <tr>\n",
       "      <th>total_injured</th>\n",
       "      <td>74245.0</td>\n",
       "      <td>1.049633</td>\n",
       "      <td>5.069460</td>\n",
       "      <td>0.0</td>\n",
       "      <td>0.0</td>\n",
       "      <td>0.0</td>\n",
       "      <td>1.0</td>\n",
       "      <td>295.0</td>\n",
       "    </tr>\n",
       "  </tbody>\n",
       "</table>\n",
       "</div>"
      ],
      "text/plain": [
       "                          count         mean        std     min     25%  \\\n",
       "number_of_engines       74245.0     0.988605   0.106137     0.0     1.0   \n",
       "total_fatal_injuries    74245.0     0.506000   4.217235     0.0     0.0   \n",
       "total_serious_injuries  74245.0     0.243518   1.467668     0.0     0.0   \n",
       "total_minor_injuries    74245.0     0.300114   1.538765     0.0     0.0   \n",
       "total_uninjured         74245.0     4.783016  26.019085     0.0     0.0   \n",
       "event_year              74245.0  1998.368658  12.755895  1948.0  1987.0   \n",
       "event_month             74245.0     6.588471   3.054134     1.0     4.0   \n",
       "event_day               74245.0     3.312048   2.009736     0.0     2.0   \n",
       "total_injured           74245.0     1.049633   5.069460     0.0     0.0   \n",
       "\n",
       "                           50%     75%     max  \n",
       "number_of_engines          1.0     1.0     1.0  \n",
       "total_fatal_injuries       0.0     0.0   295.0  \n",
       "total_serious_injuries     0.0     0.0   161.0  \n",
       "total_minor_injuries       0.0     0.0   171.0  \n",
       "total_uninjured            1.0     2.0   576.0  \n",
       "event_year              1995.0  2011.0  2022.0  \n",
       "event_month                7.0     9.0    12.0  \n",
       "event_day                  4.0     5.0     6.0  \n",
       "total_injured              0.0     1.0   295.0  "
      ]
     },
     "execution_count": 96,
     "metadata": {},
     "output_type": "execute_result"
    }
   ],
   "source": [
    "df.describe().T"
   ]
  },
  {
   "cell_type": "code",
   "execution_count": 97,
   "metadata": {},
   "outputs": [
    {
     "data": {
      "text/html": [
       "<div>\n",
       "<style scoped>\n",
       "    .dataframe tbody tr th:only-of-type {\n",
       "        vertical-align: middle;\n",
       "    }\n",
       "\n",
       "    .dataframe tbody tr th {\n",
       "        vertical-align: top;\n",
       "    }\n",
       "\n",
       "    .dataframe thead th {\n",
       "        text-align: right;\n",
       "    }\n",
       "</style>\n",
       "<table border=\"1\" class=\"dataframe\">\n",
       "  <thead>\n",
       "    <tr style=\"text-align: right;\">\n",
       "      <th></th>\n",
       "      <th>count</th>\n",
       "      <th>unique</th>\n",
       "      <th>top</th>\n",
       "      <th>freq</th>\n",
       "    </tr>\n",
       "  </thead>\n",
       "  <tbody>\n",
       "    <tr>\n",
       "      <th>event_id</th>\n",
       "      <td>74245</td>\n",
       "      <td>73535</td>\n",
       "      <td>20001212X19172</td>\n",
       "      <td>3</td>\n",
       "    </tr>\n",
       "    <tr>\n",
       "      <th>investigation_type</th>\n",
       "      <td>74245</td>\n",
       "      <td>2</td>\n",
       "      <td>Accident</td>\n",
       "      <td>71055</td>\n",
       "    </tr>\n",
       "    <tr>\n",
       "      <th>aircraft_damage</th>\n",
       "      <td>74245</td>\n",
       "      <td>4</td>\n",
       "      <td>Substantial</td>\n",
       "      <td>53425</td>\n",
       "    </tr>\n",
       "    <tr>\n",
       "      <th>aircraft_category</th>\n",
       "      <td>74245</td>\n",
       "      <td>15</td>\n",
       "      <td>Airplane</td>\n",
       "      <td>59237</td>\n",
       "    </tr>\n",
       "    <tr>\n",
       "      <th>make</th>\n",
       "      <td>74245</td>\n",
       "      <td>6354</td>\n",
       "      <td>cessna</td>\n",
       "      <td>23007</td>\n",
       "    </tr>\n",
       "    <tr>\n",
       "      <th>model</th>\n",
       "      <td>74245</td>\n",
       "      <td>10225</td>\n",
       "      <td>152</td>\n",
       "      <td>2119</td>\n",
       "    </tr>\n",
       "    <tr>\n",
       "      <th>engine_type</th>\n",
       "      <td>74245</td>\n",
       "      <td>13</td>\n",
       "      <td>Reciprocating</td>\n",
       "      <td>61484</td>\n",
       "    </tr>\n",
       "    <tr>\n",
       "      <th>weather_condition</th>\n",
       "      <td>74245</td>\n",
       "      <td>3</td>\n",
       "      <td>vmc</td>\n",
       "      <td>64341</td>\n",
       "    </tr>\n",
       "    <tr>\n",
       "      <th>broad_phase_of_flight</th>\n",
       "      <td>74245</td>\n",
       "      <td>12</td>\n",
       "      <td>Unknown</td>\n",
       "      <td>26228</td>\n",
       "    </tr>\n",
       "  </tbody>\n",
       "</table>\n",
       "</div>"
      ],
      "text/plain": [
       "                       count unique             top   freq\n",
       "event_id               74245  73535  20001212X19172      3\n",
       "investigation_type     74245      2        Accident  71055\n",
       "aircraft_damage        74245      4     Substantial  53425\n",
       "aircraft_category      74245     15        Airplane  59237\n",
       "make                   74245   6354          cessna  23007\n",
       "model                  74245  10225             152   2119\n",
       "engine_type            74245     13   Reciprocating  61484\n",
       "weather_condition      74245      3             vmc  64341\n",
       "broad_phase_of_flight  74245     12         Unknown  26228"
      ]
     },
     "execution_count": 97,
     "metadata": {},
     "output_type": "execute_result"
    }
   ],
   "source": [
    "df.describe(include=[object]).T"
   ]
  },
  {
   "cell_type": "code",
   "execution_count": 98,
   "metadata": {},
   "outputs": [
    {
     "data": {
      "text/html": [
       "<div>\n",
       "<style scoped>\n",
       "    .dataframe tbody tr th:only-of-type {\n",
       "        vertical-align: middle;\n",
       "    }\n",
       "\n",
       "    .dataframe tbody tr th {\n",
       "        vertical-align: top;\n",
       "    }\n",
       "\n",
       "    .dataframe thead th {\n",
       "        text-align: right;\n",
       "    }\n",
       "</style>\n",
       "<table border=\"1\" class=\"dataframe\">\n",
       "  <thead>\n",
       "    <tr style=\"text-align: right;\">\n",
       "      <th></th>\n",
       "      <th>number_of_engines</th>\n",
       "      <th>total_fatal_injuries</th>\n",
       "      <th>total_serious_injuries</th>\n",
       "      <th>total_minor_injuries</th>\n",
       "      <th>total_uninjured</th>\n",
       "      <th>event_year</th>\n",
       "      <th>event_month</th>\n",
       "      <th>event_day</th>\n",
       "      <th>total_injured</th>\n",
       "    </tr>\n",
       "  </thead>\n",
       "  <tbody>\n",
       "    <tr>\n",
       "      <th>number_of_engines</th>\n",
       "      <td>1.000000</td>\n",
       "      <td>-0.043059</td>\n",
       "      <td>-0.019713</td>\n",
       "      <td>-0.003802</td>\n",
       "      <td>-0.020336</td>\n",
       "      <td>-0.078675</td>\n",
       "      <td>-0.004993</td>\n",
       "      <td>-0.007704</td>\n",
       "      <td>-0.042681</td>\n",
       "    </tr>\n",
       "    <tr>\n",
       "      <th>total_fatal_injuries</th>\n",
       "      <td>-0.043059</td>\n",
       "      <td>1.000000</td>\n",
       "      <td>0.088754</td>\n",
       "      <td>0.069283</td>\n",
       "      <td>-0.016837</td>\n",
       "      <td>0.013280</td>\n",
       "      <td>0.001777</td>\n",
       "      <td>-0.003714</td>\n",
       "      <td>0.878616</td>\n",
       "    </tr>\n",
       "    <tr>\n",
       "      <th>total_serious_injuries</th>\n",
       "      <td>-0.019713</td>\n",
       "      <td>0.088754</td>\n",
       "      <td>1.000000</td>\n",
       "      <td>0.308762</td>\n",
       "      <td>0.049140</td>\n",
       "      <td>0.026192</td>\n",
       "      <td>0.005395</td>\n",
       "      <td>0.002426</td>\n",
       "      <td>0.457066</td>\n",
       "    </tr>\n",
       "    <tr>\n",
       "      <th>total_minor_injuries</th>\n",
       "      <td>-0.003802</td>\n",
       "      <td>0.069283</td>\n",
       "      <td>0.308762</td>\n",
       "      <td>1.000000</td>\n",
       "      <td>0.142011</td>\n",
       "      <td>-0.039107</td>\n",
       "      <td>0.009084</td>\n",
       "      <td>0.000858</td>\n",
       "      <td>0.450563</td>\n",
       "    </tr>\n",
       "    <tr>\n",
       "      <th>total_uninjured</th>\n",
       "      <td>-0.020336</td>\n",
       "      <td>-0.016837</td>\n",
       "      <td>0.049140</td>\n",
       "      <td>0.142011</td>\n",
       "      <td>1.000000</td>\n",
       "      <td>0.034518</td>\n",
       "      <td>-0.003379</td>\n",
       "      <td>-0.022548</td>\n",
       "      <td>0.043325</td>\n",
       "    </tr>\n",
       "    <tr>\n",
       "      <th>event_year</th>\n",
       "      <td>-0.078675</td>\n",
       "      <td>0.013280</td>\n",
       "      <td>0.026192</td>\n",
       "      <td>-0.039107</td>\n",
       "      <td>0.034518</td>\n",
       "      <td>1.000000</td>\n",
       "      <td>0.007589</td>\n",
       "      <td>-0.030394</td>\n",
       "      <td>0.006760</td>\n",
       "    </tr>\n",
       "    <tr>\n",
       "      <th>event_month</th>\n",
       "      <td>-0.004993</td>\n",
       "      <td>0.001777</td>\n",
       "      <td>0.005395</td>\n",
       "      <td>0.009084</td>\n",
       "      <td>-0.003379</td>\n",
       "      <td>0.007589</td>\n",
       "      <td>1.000000</td>\n",
       "      <td>0.003398</td>\n",
       "      <td>0.005798</td>\n",
       "    </tr>\n",
       "    <tr>\n",
       "      <th>event_day</th>\n",
       "      <td>-0.007704</td>\n",
       "      <td>-0.003714</td>\n",
       "      <td>0.002426</td>\n",
       "      <td>0.000858</td>\n",
       "      <td>-0.022548</td>\n",
       "      <td>-0.030394</td>\n",
       "      <td>0.003398</td>\n",
       "      <td>1.000000</td>\n",
       "      <td>-0.002127</td>\n",
       "    </tr>\n",
       "    <tr>\n",
       "      <th>total_injured</th>\n",
       "      <td>-0.042681</td>\n",
       "      <td>0.878616</td>\n",
       "      <td>0.457066</td>\n",
       "      <td>0.450563</td>\n",
       "      <td>0.043325</td>\n",
       "      <td>0.006760</td>\n",
       "      <td>0.005798</td>\n",
       "      <td>-0.002127</td>\n",
       "      <td>1.000000</td>\n",
       "    </tr>\n",
       "  </tbody>\n",
       "</table>\n",
       "</div>"
      ],
      "text/plain": [
       "                        number_of_engines  total_fatal_injuries  \\\n",
       "number_of_engines                1.000000             -0.043059   \n",
       "total_fatal_injuries            -0.043059              1.000000   \n",
       "total_serious_injuries          -0.019713              0.088754   \n",
       "total_minor_injuries            -0.003802              0.069283   \n",
       "total_uninjured                 -0.020336             -0.016837   \n",
       "event_year                      -0.078675              0.013280   \n",
       "event_month                     -0.004993              0.001777   \n",
       "event_day                       -0.007704             -0.003714   \n",
       "total_injured                   -0.042681              0.878616   \n",
       "\n",
       "                        total_serious_injuries  total_minor_injuries  \\\n",
       "number_of_engines                    -0.019713             -0.003802   \n",
       "total_fatal_injuries                  0.088754              0.069283   \n",
       "total_serious_injuries                1.000000              0.308762   \n",
       "total_minor_injuries                  0.308762              1.000000   \n",
       "total_uninjured                       0.049140              0.142011   \n",
       "event_year                            0.026192             -0.039107   \n",
       "event_month                           0.005395              0.009084   \n",
       "event_day                             0.002426              0.000858   \n",
       "total_injured                         0.457066              0.450563   \n",
       "\n",
       "                        total_uninjured  event_year  event_month  event_day  \\\n",
       "number_of_engines             -0.020336   -0.078675    -0.004993  -0.007704   \n",
       "total_fatal_injuries          -0.016837    0.013280     0.001777  -0.003714   \n",
       "total_serious_injuries         0.049140    0.026192     0.005395   0.002426   \n",
       "total_minor_injuries           0.142011   -0.039107     0.009084   0.000858   \n",
       "total_uninjured                1.000000    0.034518    -0.003379  -0.022548   \n",
       "event_year                     0.034518    1.000000     0.007589  -0.030394   \n",
       "event_month                   -0.003379    0.007589     1.000000   0.003398   \n",
       "event_day                     -0.022548   -0.030394     0.003398   1.000000   \n",
       "total_injured                  0.043325    0.006760     0.005798  -0.002127   \n",
       "\n",
       "                        total_injured  \n",
       "number_of_engines           -0.042681  \n",
       "total_fatal_injuries         0.878616  \n",
       "total_serious_injuries       0.457066  \n",
       "total_minor_injuries         0.450563  \n",
       "total_uninjured              0.043325  \n",
       "event_year                   0.006760  \n",
       "event_month                  0.005798  \n",
       "event_day                   -0.002127  \n",
       "total_injured                1.000000  "
      ]
     },
     "execution_count": 98,
     "metadata": {},
     "output_type": "execute_result"
    }
   ],
   "source": [
    "df.corr().T"
   ]
  },
  {
   "cell_type": "code",
   "execution_count": 99,
   "metadata": {},
   "outputs": [
    {
     "data": {
      "image/png": "[encoded data removed]",
      "text/plain": [
       "<Figure size 432x288 with 2 Axes>"
      ]
     },
     "metadata": {
      "needs_background": "light"
     },
     "output_type": "display_data"
    }
   ],
   "source": [
    "sns.heatmap(df.corr());"
   ]
  },
  {
   "cell_type": "markdown",
   "metadata": {},
   "source": []
  },
  {
   "cell_type": "markdown",
   "metadata": {},
   "source": [
    "### Data Analysis for recommendations"
   ]
  },
  {
   "cell_type": "markdown",
   "metadata": {},
   "source": [
    " \n",
    "Before starting Analysis, we adjust our dataset based on client's task.\n",
    "1. The purchase of aircraft \n",
    "2. The type of aircraft is airplane for commercial and private enterprises"
   ]
  },
  {
   "cell_type": "markdown",
   "metadata": {},
   "source": [
    "A successful production run = 15-20 years.  \n",
    "Aircraft lifetime = 25-35 years.  \n",
    "Based on this information we explore data from 2003-01-01"
   ]
  },
  {
   "cell_type": "code",
   "execution_count": 100,
   "metadata": {},
   "outputs": [],
   "source": [
    "df = df[df['event_date'] > '2003-01-01']"
   ]
  },
  {
   "cell_type": "code",
   "execution_count": 101,
   "metadata": {},
   "outputs": [
    {
     "data": {
      "text/plain": [
       "array(['2003-01-18T00:00:00.000000000', '2003-06-21T00:00:00.000000000',\n",
       "       '2005-02-02T00:00:00.000000000', ...,\n",
       "       '2022-12-22T00:00:00.000000000', '2022-12-26T00:00:00.000000000',\n",
       "       '2022-12-29T00:00:00.000000000'], dtype='datetime64[ns]')"
      ]
     },
     "execution_count": 101,
     "metadata": {},
     "output_type": "execute_result"
    }
   ],
   "source": [
    "df['event_date'].unique()"
   ]
  },
  {
   "cell_type": "markdown",
   "metadata": {},
   "source": [
    "We have to choose types of airplane that comply with  commercial and private use.\n"
   ]
  },
  {
   "cell_type": "code",
   "execution_count": 102,
   "metadata": {},
   "outputs": [
    {
     "data": {
      "text/plain": [
       "Airplane             21282\n",
       "Helicopter            2744\n",
       "Glider                 368\n",
       "Balloon                162\n",
       "Weight-Shift           161\n",
       "Gyrocraft              138\n",
       "Powered Parachute       91\n",
       "Unknown                 46\n",
       "Ultralight              23\n",
       "WSFT                     9\n",
       "UNK                      2\n",
       "Powered-Lift             2\n",
       "Rocket                   1\n",
       "Blimp                    1\n",
       "ULTR                     1\n",
       "Name: aircraft_category, dtype: int64"
      ]
     },
     "execution_count": 102,
     "metadata": {},
     "output_type": "execute_result"
    }
   ],
   "source": [
    "df['aircraft_category'].value_counts()"
   ]
  },
  {
   "cell_type": "code",
   "execution_count": 104,
   "metadata": {},
   "outputs": [
    {
     "data": {
      "image/png": "[encoded data removed]",
      "text/plain": [
       "<Figure size 432x288 with 1 Axes>"
      ]
     },
     "metadata": {
      "needs_background": "light"
     },
     "output_type": "display_data"
    }
   ],
   "source": [
    "# Create a new column that contains the logarithmically scaled number of injured people\n",
    "df['log_injured'] = np.log(df['total_injured'])\n",
    "\n",
    "# Plot the number of injured people for each engine on a logarithmic scale\n",
    "plt.bar(df['engine_type'], df['log_injured'])\n",
    "plt.xlabel('engine_type')\n",
    "plt.ylabel('Logarithm of Number of Injured People')\n",
    "plt.title('Total Injured People for each Engine (Logarithmic Scale)')\n",
    "plt.show()"
   ]
  },
  {
   "cell_type": "code",
   "execution_count": 103,
   "metadata": {},
   "outputs": [],
   "source": [
    "df.to_csv('aviation20231002.csv')"
   ]
  },
  {
   "cell_type": "code",
   "execution_count": null,
   "metadata": {},
   "outputs": [],
   "source": []
  },
  {
   "cell_type": "code",
   "execution_count": null,
   "metadata": {},
   "outputs": [],
   "source": []
  },
  {
   "cell_type": "markdown",
   "metadata": {},
   "source": []
  },
  {
   "cell_type": "markdown",
   "metadata": {},
   "source": []
  },
  {
   "cell_type": "markdown",
   "metadata": {},
   "source": [
    "## Summary"
   ]
  },
  {
   "cell_type": "markdown",
   "metadata": {},
   "source": []
  }
 ],
 "metadata": {
  "kernelspec": {
   "display_name": "Python 3",
   "language": "python",
   "name": "python3"
  },
  "language_info": {
   "codemirror_mode": {
    "name": "ipython",
    "version": 3
   },
   "file_extension": ".py",
   "mimetype": "text/x-python",
   "name": "python",
   "nbconvert_exporter": "python",
   "pygments_lexer": "ipython3",
   "version": "3.8.5"
  },
  "toc": {
   "base_numbering": 1,
   "nav_menu": {},
   "number_sections": true,
   "sideBar": true,
   "skip_h1_title": false,
   "title_cell": "Table of Contents",
   "title_sidebar": "TOC",
   "toc_cell": true,
   "toc_position": {
    "height": "calc(100% - 180px)",
    "left": "10px",
    "top": "150px",
    "width": "292px"
   },
   "toc_section_display": true,
   "toc_window_display": true
  }
 },
 "nbformat": 4,
 "nbformat_minor": 4
}
